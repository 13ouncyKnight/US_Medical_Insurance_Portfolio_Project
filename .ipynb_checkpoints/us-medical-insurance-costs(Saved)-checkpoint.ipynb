{
 "cells": [
  {
   "cell_type": "markdown",
   "metadata": {},
   "source": [
    "# U.S. Medical Insurance Costs"
   ]
  },
  {
   "cell_type": "markdown",
   "metadata": {},
   "source": [
    "In this Porject, we are given a csv file **insurance.csv** that contains the dataset we will be working on for our analysis. The first step is to import the data from csv into our notebook file (ipnyb). <br> \n",
    "\n",
    "*See code below for importing, reading and iterating through the csv file to store values into variables.*"
   ]
  },
  {
   "cell_type": "code",
   "execution_count": 43,
   "metadata": {},
   "outputs": [],
   "source": [
    "#To import csv library since we are working with a csv file\n",
    "import csv\n",
    "\n",
    "#Create empty lists to store values of each type of data\n",
    "age = []\n",
    "sex = []\n",
    "bmi = []\n",
    "children = []\n",
    "smoker = []\n",
    "region = []\n",
    "charges = []\n",
    "insurance_data = []\n",
    "\n",
    "#Open file using DictReader, and iterate through each column to store value\n",
    "#to their designated lists\n",
    "with open('insurance.csv') as insurance_file:\n",
    "    insurance_dict = csv.DictReader(insurance_file)\n",
    "    for row in insurance_dict:\n",
    "        age.append(row['age'])\n",
    "        sex.append(row['sex'])\n",
    "        bmi.append(row['bmi'])\n",
    "        children.append(row['children'])\n",
    "        smoker.append(row['smoker'])\n",
    "        region.append(row['region'])\n",
    "        charges.append(row['charges'])\n",
    "\n",
    "#printing to check if values are stored as expected        \n",
    "#print(age,sex,bmi,children,smoker,region,charges)     "
   ]
  },
  {
   "cell_type": "markdown",
   "metadata": {},
   "source": [
    "#### Now that we have stored the values of our data into their respective lists, such as:\n",
    "\n",
    "* age\n",
    "* sex\n",
    "* bmi\n",
    "* children\n",
    "* smoker\n",
    "* region\n",
    "* charges\n",
    "\n",
    "We can now proceed to our analysis but first, we should create functions to get the values that we want such as the *MIN, MAX, AVG, MEAN, MEDIAN* ,etc.\n",
    "\n",
    "#### Here are some data we might want to analyze:\n",
    "\n",
    "* Organize 0 children, 1-3 children (count)\n",
    "* Organize age brackets (under 18, 20s, 30s, 40s, 50s, 60s, and 65 year-olds)\n",
    "* Organize male and females (count)\n",
    "* average, median, and mean costs for both male and female\n",
    "* Highest Cost (and details)\n",
    "* Lowest Cost (and details)\n",
    "* Count of each age (1-100)\n",
    "* Average age of patients ()\n",
    "* Median age of patients ()\n",
    "* Where majority of individuals are from ()\n",
    "* Cost avg between smokers and non-smokers ()\n",
    "* Average charge of someone who has at least one child in this dataset ()\n"
   ]
  },
  {
   "cell_type": "markdown",
   "metadata": {},
   "source": [
    "##### Organize 0 children, 1-3 children (count)"
   ]
  },
  {
   "cell_type": "code",
   "execution_count": 25,
   "metadata": {},
   "outputs": [
    {
     "name": "stdout",
     "output_type": "stream",
     "text": [
      "Number of people with 0 children: \t 574 \n",
      "Number of people with 1 child: \t\t 324 \n",
      "Number of people with 2 children: \t 240 \n",
      "Number of people with 3 children: \t 157 \n",
      "Number of people with 4 children: \t 25 \n",
      "Number of people with 5 children: \t 18 \n",
      "Number of people with 6 children: \t 0\n"
     ]
    }
   ],
   "source": [
    "#Use count method to count number of people who has 0, 1, 2, 3, 4 and more children #list_name.count('value')\n",
    "def count_children(children):\n",
    "    count_0 = []\n",
    "    count_1 = []\n",
    "    count_2 = []\n",
    "    count_3 = []\n",
    "    count_4 = []\n",
    "    count_5 = []\n",
    "    count_6 = []\n",
    "    for num_of_children in children:\n",
    "        if num_of_children == '0':\n",
    "            count_0.append(num_of_children)\n",
    "        elif num_of_children == '1':\n",
    "            count_1.append(num_of_children)\n",
    "        elif num_of_children == '2':\n",
    "            count_2.append(num_of_children)    \n",
    "        elif num_of_children == '3':\n",
    "            count_3.append(num_of_children)    \n",
    "        elif num_of_children == '4':\n",
    "            count_4.append(num_of_children)    \n",
    "        elif num_of_children == '5':\n",
    "            count_5.append(num_of_children)\n",
    "        elif num_of_children == '6':\n",
    "            count_6.append(num_of_children)    \n",
    "    print(\"Number of people with 0 children: \\t\", count_0.count(\"0\"), \"\\nNumber of people with 1 child: \\t\\t\", count_1.count(\"1\"),\"\\nNumber of people with 2 children: \\t\", count_2.count(\"2\"), \"\\nNumber of people with 3 children: \\t\", count_3.count(\"3\"), \"\\nNumber of people with 4 children: \\t\", count_4.count(\"4\"), \"\\nNumber of people with 5 children: \\t\", count_5.count(\"5\"), \"\\nNumber of people with 6 children: \\t\", count_6.count(\"6\"))\n",
    "\n",
    "(count_children(children))"
   ]
  },
  {
   "cell_type": "markdown",
   "metadata": {},
   "source": [
    "##### Organize age brackets (under 18, 20s, 30s, 40s, 50s, 60s, and 65 year-olds)"
   ]
  },
  {
   "cell_type": "code",
   "execution_count": 26,
   "metadata": {},
   "outputs": [
    {
     "name": "stdout",
     "output_type": "stream",
     "text": [
      "No. of people who are underage: \t 69 \n",
      "No. of people who are in their 20s: \t 280 \n",
      "No. of people who are in their 30s: \t 257 \n",
      "No. of people who are in their 40s: \t 279 \n",
      "No. of people who are in their 50s: \t 271 \n",
      "No. of people who are over 60s: \t 114 \n",
      "No. of people who are seniors(65+): \t 0\n"
     ]
    }
   ],
   "source": [
    "#Create a function to organize age brackets\n",
    "def age_brackets(age):\n",
    "    converted_age_list = [int(n) for n in age]\n",
    "    under_18 = []\n",
    "    twenties = []\n",
    "    thirties = []\n",
    "    fourties = []\n",
    "    fifties = []\n",
    "    sixties = []\n",
    "    seniors = []\n",
    "    for num in converted_age_list:\n",
    "        if num <=18:\n",
    "            under_18.append(num)\n",
    "        elif num >=20 and num <30:\n",
    "            twenties.append(num)\n",
    "        elif num >=30 and num <40:\n",
    "            thirties.append(num)\n",
    "        elif num >=40 and num <50:\n",
    "            fourties.append(num)\n",
    "        elif num >=50 and num <60:\n",
    "            fifties.append(num)\n",
    "        elif num >=60 and num <65:\n",
    "            sixties.append(num)\n",
    "        elif num >=65 and num <100:\n",
    "            seniors.append(num)\n",
    "    print(\"No. of people who are underage: \\t\", len(under_18), \"\\nNo. of people who are in their 20s: \\t\", len(twenties), \"\\nNo. of people who are in their 30s: \\t\", len(thirties), \"\\nNo. of people who are in their 40s: \\t\", len(fourties), \"\\nNo. of people who are in their 50s: \\t\", len(fifties), \"\\nNo. of people who are over 60s: \\t\", len(sixties), \"\\nNo. of people who are seniors(65+): \\t\", len(seniors))\n",
    "    \n",
    "age_brackets(age)            "
   ]
  },
  {
   "cell_type": "markdown",
   "metadata": {},
   "source": [
    "##### Organize male and females (count)"
   ]
  },
  {
   "cell_type": "code",
   "execution_count": 27,
   "metadata": {
    "scrolled": true
   },
   "outputs": [
    {
     "name": "stdout",
     "output_type": "stream",
     "text": [
      "Total number of females: \t 662 \n",
      "Total number of males: \t\t 676\n"
     ]
    }
   ],
   "source": [
    "#Create a function to count number of males and females:\n",
    "def count_sex(sex):\n",
    "    male = []\n",
    "    female = []\n",
    "    for gender in sex:\n",
    "        if gender == 'male':\n",
    "            male.append(gender)\n",
    "        else:\n",
    "            female.append(gender)\n",
    "    print(\"Total number of females: \\t\", female.count('female'), \"\\nTotal number of males: \\t\\t\", male.count('male'))\n",
    "\n",
    "count_sex(sex)    "
   ]
  },
  {
   "cell_type": "markdown",
   "metadata": {},
   "source": [
    "##### \\*\\*Average, Median, and Mean costs for all genders: ```Haven't learned mean, median yet using Python"
   ]
  },
  {
   "cell_type": "code",
   "execution_count": 28,
   "metadata": {},
   "outputs": [
    {
     "name": "stdout",
     "output_type": "stream",
     "text": [
      "\n",
      "The total sum of all charges in the dataset is: $ 17755824.99\n",
      "Total number of people:  1338\n",
      "The average charge/cost in the dataset is: $ 13270.42\n"
     ]
    }
   ],
   "source": [
    "converted_charges = [float(cost) for cost in charges]\n",
    "\n",
    "total_cost_all = 0\n",
    "for cost in converted_charges:\n",
    "    total_cost_all += cost\n",
    "\n",
    "rounded_total = round((total_cost_all), 2)    \n",
    "print(\"\\nThe total sum of all charges in the dataset is: $\", rounded_total)\n",
    "print(\"Total number of people: \", len(charges))\n",
    "print(\"The average charge/cost in the dataset is: $\", round(rounded_total/len(charges), 2))"
   ]
  },
  {
   "cell_type": "markdown",
   "metadata": {},
   "source": [
    "##### \\*\\*Average, Median, and Mean costs for males:```Haven't learned mean, median yet using Python"
   ]
  },
  {
   "cell_type": "code",
   "execution_count": 107,
   "metadata": {},
   "outputs": [
    {
     "name": "stdout",
     "output_type": "stream",
     "text": [
      "Total sum of all charges for males: \t$ 9434763.8\n",
      "The total average charge for all males is: $ 13956.75\n"
     ]
    }
   ],
   "source": [
    "#Create a list for the charges for all males\n",
    "#first, create a list of tuples with sex and charges\n",
    "\n",
    "sex_charges_list = []\n",
    "n=0\n",
    "for data in sex:\n",
    "    sex_charges_list.append(data)\n",
    "    sex_charges_list.append(charges[n])\n",
    "    n+=1\n",
    "\n",
    "#print(sex_charges_list)    \n",
    "#print(\"\\nLength: \\t\", len(sex_charges_list))    \n",
    "\n",
    "n=0\n",
    "total_cost_male = 0\n",
    "for data in sex_charges_list:\n",
    "    if data == 'male':\n",
    "        total_cost_male += float(sex_charges_list[n+1])\n",
    "        n+=1\n",
    "    else:\n",
    "        n+=1\n",
    "        continue\n",
    "        \n",
    "print(\"Total sum of all charges for males: \\t$\", round((total_cost_male), 2)) \n",
    "print(\"The total average charge for all males is: $\", round((round((total_cost_male), 2)/676),2))"
   ]
  },
  {
   "cell_type": "markdown",
   "metadata": {},
   "source": [
    "##### \\*\\*Average, Median, and Mean costs for females:```Haven't learned mean, median yet using Python"
   ]
  },
  {
   "cell_type": "code",
   "execution_count": 30,
   "metadata": {},
   "outputs": [
    {
     "name": "stdout",
     "output_type": "stream",
     "text": [
      "\n",
      "Total sum of all charges for females: \t$ 8321061.19\n",
      "The average charges for all female in the dataset is: $ 12569.58\n"
     ]
    }
   ],
   "source": [
    "#create a list of sum total charges for females\n",
    "total_cost_female = 0\n",
    "n=0\n",
    "for data in sex_charges_list:\n",
    "    if data == 'female':\n",
    "        total_cost_female += float(sex_charges_list[n+1])\n",
    "        n+=1\n",
    "    else:\n",
    "        n+=1\n",
    "\n",
    "print(\"\\nTotal sum of all charges for females: \\t$\", round((total_cost_female), 2))   \n",
    "print(\"The average charges for all female in the dataset is: $\", round((round((total_cost_female), 2)/662),2))"
   ]
  },
  {
   "cell_type": "markdown",
   "metadata": {},
   "source": [
    "### Record with Highest Cost (and details):\n",
    "###### First, we need to create a dictionary to get the details"
   ]
  },
  {
   "cell_type": "code",
   "execution_count": 31,
   "metadata": {},
   "outputs": [
    {
     "name": "stdout",
     "output_type": "stream",
     "text": [
      "\n",
      "Highest charge is: $ 63770.42801\n"
     ]
    }
   ],
   "source": [
    "#Creating the Dictionary\n",
    "dataset_values = zip(age, sex, bmi, children, smoker, region, charges)\n",
    "dataset_keys = range(1338)\n",
    "dataset_dict = {key: value for key, value in zip(dataset_keys,dataset_values)}\n",
    "\n",
    "#print(dataset_dict)  \n",
    "\n",
    "def highest_cost(list):\n",
    "    highest_charge = 0\n",
    "    charges_list = [float(n) for n in list]\n",
    "    for charge in charges_list:\n",
    "        if charge >= highest_charge:\n",
    "            highest_charge = charge\n",
    "    return highest_charge\n",
    "\n",
    "print(\"\\nHighest charge is: $\", highest_cost(charges))"
   ]
  },
  {
   "cell_type": "code",
   "execution_count": 32,
   "metadata": {
    "scrolled": true
   },
   "outputs": [
    {
     "name": "stdout",
     "output_type": "stream",
     "text": [
      "Details of the person with the highest charges:  ('54', 'female', '47.41', '0', 'yes', 'southeast', '63770.42801')\n"
     ]
    }
   ],
   "source": [
    "#Check details (all other items) of the (value) in the dictionary using get method:\n",
    "\n",
    "for record in dataset_dict:\n",
    "    if dataset_dict[record][-1] == '63770.42801':\n",
    "        print(\"Details of the person with the highest charges: \", dataset_dict.get(record))\n",
    "        "
   ]
  },
  {
   "cell_type": "markdown",
   "metadata": {},
   "source": [
    "##### Then, determine the record with Lowest Charge: "
   ]
  },
  {
   "cell_type": "code",
   "execution_count": 33,
   "metadata": {},
   "outputs": [
    {
     "name": "stdout",
     "output_type": "stream",
     "text": [
      "\n",
      "The lowest charge is: $ 1121.8739\n"
     ]
    }
   ],
   "source": [
    "def lowest_cost(list):\n",
    "    lowest_charge = float('inf')\n",
    "    charges_list = [float(n) for n in list]\n",
    "    for charge in charges_list:\n",
    "        if charge <= lowest_charge:\n",
    "            lowest_charge = charge\n",
    "    return lowest_charge\n",
    "\n",
    "print(\"\\nThe lowest charge is: $\", lowest_cost(charges))"
   ]
  },
  {
   "cell_type": "code",
   "execution_count": 34,
   "metadata": {},
   "outputs": [
    {
     "name": "stdout",
     "output_type": "stream",
     "text": [
      "Details of the person with the lowest charges:  ('18', 'male', '23.21', '0', 'no', 'southeast', '1121.8739')\n"
     ]
    }
   ],
   "source": [
    "#Check details (all other items) of the (value) in the dictionary using get method:\n",
    "\n",
    "for record in dataset_dict:\n",
    "    if dataset_dict[record][-1] == '1121.8739':\n",
    "        print(\"Details of the person with the lowest charges: \", dataset_dict.get(record))"
   ]
  },
  {
   "cell_type": "markdown",
   "metadata": {},
   "source": [
    "##### Count of each age in the record from 1-100: "
   ]
  },
  {
   "cell_type": "markdown",
   "metadata": {},
   "source": [
    "\\#dataset_values = zip(age, sex, bmi, children, smoker, region, charges) <br>\n",
    "\\#dataset_dict = {range(1338): dataset_values}\n",
    "\n"
   ]
  },
  {
   "cell_type": "code",
   "execution_count": 35,
   "metadata": {},
   "outputs": [],
   "source": [
    "# Dsclaimer: just copied this code from gpt, lul, would be better to use pandas i guess\n",
    "\n",
    "# Creating variables with empty values using a for loop\n",
    "for i in range(1, 101):\n",
    "    globals()[f\"age_{i}\"] = None  # Assigning None as the empty value"
   ]
  },
  {
   "cell_type": "code",
   "execution_count": 36,
   "metadata": {},
   "outputs": [
    {
     "name": "stdout",
     "output_type": "stream",
     "text": [
      "__name__\n",
      "__doc__\n",
      "__package__\n",
      "__loader__\n",
      "__spec__\n",
      "__builtin__\n",
      "__builtins__\n",
      "_ih\n",
      "_oh\n",
      "_dh\n",
      "In\n",
      "Out\n",
      "get_ipython\n",
      "exit\n",
      "quit\n",
      "open\n",
      "_\n",
      "__\n",
      "___\n",
      "_i\n",
      "_ii\n",
      "_iii\n",
      "_i1\n",
      "csv\n",
      "age\n",
      "sex\n",
      "bmi\n",
      "children\n",
      "smoker\n",
      "region\n",
      "charges\n",
      "insurance_data\n",
      "insurance_file\n",
      "insurance_dict\n",
      "row\n",
      "_i2\n",
      "count_children\n",
      "_i3\n",
      "age_brackets\n",
      "_i4\n",
      "count_sex\n",
      "_i5\n",
      "converted_charges\n",
      "total_cost_all\n",
      "cost\n",
      "rounded_total\n",
      "_i6\n",
      "sex_charges_list\n",
      "n\n",
      "data\n",
      "total_cost_male\n",
      "_i7\n",
      "total_cost_female\n",
      "_i8\n",
      "dataset_values\n",
      "dataset_keys\n",
      "dataset_dict\n",
      "highest_cost\n",
      "_i9\n",
      "record\n",
      "_i10\n",
      "lowest_cost\n",
      "_i11\n",
      "_i12\n",
      "i\n",
      "age_1\n",
      "age_2\n",
      "age_3\n",
      "age_4\n",
      "age_5\n",
      "age_6\n",
      "age_7\n",
      "age_8\n",
      "age_9\n",
      "age_10\n",
      "age_11\n",
      "age_12\n",
      "age_13\n",
      "age_14\n",
      "age_15\n",
      "age_16\n",
      "age_17\n",
      "age_18\n",
      "age_19\n",
      "age_20\n",
      "age_21\n",
      "age_22\n",
      "age_23\n",
      "age_24\n",
      "age_25\n",
      "age_26\n",
      "age_27\n",
      "age_28\n",
      "age_29\n",
      "age_30\n",
      "age_31\n",
      "age_32\n",
      "age_33\n",
      "age_34\n",
      "age_35\n",
      "age_36\n",
      "age_37\n",
      "age_38\n",
      "age_39\n",
      "age_40\n",
      "age_41\n",
      "age_42\n",
      "age_43\n",
      "age_44\n",
      "age_45\n",
      "age_46\n",
      "age_47\n",
      "age_48\n",
      "age_49\n",
      "age_50\n",
      "age_51\n",
      "age_52\n",
      "age_53\n",
      "age_54\n",
      "age_55\n",
      "age_56\n",
      "age_57\n",
      "age_58\n",
      "age_59\n",
      "age_60\n",
      "age_61\n",
      "age_62\n",
      "age_63\n",
      "age_64\n",
      "age_65\n",
      "age_66\n",
      "age_67\n",
      "age_68\n",
      "age_69\n",
      "age_70\n",
      "age_71\n",
      "age_72\n",
      "age_73\n",
      "age_74\n",
      "age_75\n",
      "age_76\n",
      "age_77\n",
      "age_78\n",
      "age_79\n",
      "age_80\n",
      "age_81\n",
      "age_82\n",
      "age_83\n",
      "age_84\n",
      "age_85\n",
      "age_86\n",
      "age_87\n",
      "age_88\n",
      "age_89\n",
      "age_90\n",
      "age_91\n",
      "age_92\n",
      "age_93\n",
      "age_94\n",
      "age_95\n",
      "age_96\n",
      "age_97\n",
      "age_98\n",
      "age_99\n",
      "age_100\n",
      "_i13\n",
      "name\n",
      "value\n",
      "_i14\n",
      "_i15\n",
      "_i16\n",
      "store_age\n",
      "age_count\n",
      "_i17\n",
      "count\n",
      "_i18\n",
      "new_ages_list\n",
      "age_list\n",
      "get_average_age\n",
      "_i19\n",
      "_i20\n",
      "_i21\n",
      "_i22\n",
      "_i23\n",
      "_i24\n",
      "_i25\n",
      "_i26\n",
      "_i27\n",
      "_i28\n",
      "_i29\n",
      "_i30\n",
      "_i31\n",
      "_i32\n",
      "_i33\n",
      "_i34\n",
      "_i35\n",
      "_i36\n"
     ]
    }
   ],
   "source": [
    "#printing the variable names\n",
    "#for name, value in locals().items():\n",
    "    #print(name)"
   ]
  },
  {
   "cell_type": "code",
   "execution_count": 42,
   "metadata": {},
   "outputs": [
    {
     "name": "stdout",
     "output_type": "stream",
     "text": [
      "{'18': 69, '19': 68, '20': 29, '21': 28, '22': 28, '23': 28, '24': 28, '25': 28, '26': 28, '27': 28, '28': 28, '29': 27, '30': 27, '31': 27, '32': 26, '33': 26, '34': 26, '35': 25, '36': 25, '37': 25, '38': 25, '39': 25, '40': 27, '41': 27, '42': 27, '43': 27, '44': 27, '45': 29, '46': 29, '47': 29, '48': 29, '49': 28, '50': 29, '51': 29, '52': 29, '53': 28, '54': 28, '55': 26, '56': 26, '57': 26, '58': 25, '59': 25, '60': 23, '61': 23, '62': 23, '63': 23, '64': 22}\n"
     ]
    }
   ],
   "source": [
    "def store_age(ages):\n",
    "    age_counts = {}  # Dictionary to store distinct ages and their counts\n",
    "    \n",
    "    ages.sort() #sort it first before the loop\n",
    "    \n",
    "    # Iterate over the ages list\n",
    "    for age in ages:\n",
    "        if age in age_counts:\n",
    "            age_counts[age] += 1  # Increment count if age already exists\n",
    "        else:\n",
    "            age_counts[age] = 1  # Initialize count if age is encountered for the first time\n",
    "\n",
    "    return age_counts\n",
    "\n",
    "age_count = store_age(age)\n",
    "\n",
    "print(age_count)"
   ]
  },
  {
   "cell_type": "code",
   "execution_count": 38,
   "metadata": {},
   "outputs": [
    {
     "name": "stdout",
     "output_type": "stream",
     "text": [
      "Age: 18, Count: 69\n",
      "Age: 19, Count: 68\n",
      "Age: 20, Count: 29\n",
      "Age: 21, Count: 28\n",
      "Age: 22, Count: 28\n",
      "Age: 23, Count: 28\n",
      "Age: 24, Count: 28\n",
      "Age: 25, Count: 28\n",
      "Age: 26, Count: 28\n",
      "Age: 27, Count: 28\n",
      "Age: 28, Count: 28\n",
      "Age: 29, Count: 27\n",
      "Age: 30, Count: 27\n",
      "Age: 31, Count: 27\n",
      "Age: 32, Count: 26\n",
      "Age: 33, Count: 26\n",
      "Age: 34, Count: 26\n",
      "Age: 35, Count: 25\n",
      "Age: 36, Count: 25\n",
      "Age: 37, Count: 25\n",
      "Age: 38, Count: 25\n",
      "Age: 39, Count: 25\n",
      "Age: 40, Count: 27\n",
      "Age: 41, Count: 27\n",
      "Age: 42, Count: 27\n",
      "Age: 43, Count: 27\n",
      "Age: 44, Count: 27\n",
      "Age: 45, Count: 29\n",
      "Age: 46, Count: 29\n",
      "Age: 47, Count: 29\n",
      "Age: 48, Count: 29\n",
      "Age: 49, Count: 28\n",
      "Age: 50, Count: 29\n",
      "Age: 51, Count: 29\n",
      "Age: 52, Count: 29\n",
      "Age: 53, Count: 28\n",
      "Age: 54, Count: 28\n",
      "Age: 55, Count: 26\n",
      "Age: 56, Count: 26\n",
      "Age: 57, Count: 26\n",
      "Age: 58, Count: 25\n",
      "Age: 59, Count: 25\n",
      "Age: 60, Count: 23\n",
      "Age: 61, Count: 23\n",
      "Age: 62, Count: 23\n",
      "Age: 63, Count: 23\n",
      "Age: 64, Count: 22\n",
      "Age list:  64\n"
     ]
    }
   ],
   "source": [
    "#Print in formatted output:\n",
    "for age, count in age_count.items():\n",
    "    print(\"Age: {}, Count: {}\".format(age,count))\n",
    "\n",
    "# Anyone knows why the variable age changed value?    \n",
    "print(\"Age list: \", age)    "
   ]
  },
  {
   "cell_type": "markdown",
   "metadata": {},
   "source": [
    "##### Average age of all patients\n",
    "\n",
    "\\#create a function that calculates the average age of all patients.<br>\n",
    "Step 1. Create a variable to store total value\n",
    "Step 2. get the average = total amount/total count"
   ]
  },
  {
   "cell_type": "code",
   "execution_count": 18,
   "metadata": {},
   "outputs": [
    {
     "name": "stdout",
     "output_type": "stream",
     "text": [
      "The total amount of ages is 52459 divided by 1338 number of people who bear the ages.\n",
      "The average age for the dataset is: 39.21\n"
     ]
    }
   ],
   "source": [
    "#I need to reread the file because somehow, at this point of the code, my list age changed the value to 64 and idk why\n",
    "\n",
    "new_ages_list = []\n",
    "with open('insurance.csv') as insurance_file:\n",
    "    insurance_dict = csv.DictReader(insurance_file)\n",
    "    for row in insurance_dict:\n",
    "        new_ages_list.append(row['age'])\n",
    "\n",
    "#To convert the age from 'str' to int:\n",
    "age_list = [int(num) for num in new_ages_list]\n",
    "\n",
    "#Create a function to calculate and return average by iterating through each age, adding all the values, and dividing by the length\n",
    "def get_average_age(ages):\n",
    "    \n",
    "    #variable to store total amount\n",
    "    total_amount = 0\n",
    "    \n",
    "    #iteration\n",
    "    for num in age_list:\n",
    "        total_amount+=num\n",
    "    \n",
    "    #Actual formula\n",
    "    average_age = total_amount/len(age_list)\n",
    "    \n",
    "    #Just a clear formatting to output the results\n",
    "    print(\"The total amount of ages is {} divided by {} number of people who bear the ages.\".format(total_amount,len(age_list)))\n",
    "    return round(average_age,2)    \n",
    "\n",
    "print(\"The average age for the dataset is: {}\".format(get_average_age(age_list)))"
   ]
  },
  {
   "cell_type": "markdown",
   "metadata": {},
   "source": [
    "##### Median age of patients (average of distinct ages):"
   ]
  },
  {
   "cell_type": "code",
   "execution_count": 52,
   "metadata": {},
   "outputs": [
    {
     "name": "stdout",
     "output_type": "stream",
     "text": [
      "\n",
      "The median age for the dataset is 41.0.\n"
     ]
    }
   ],
   "source": [
    "distinct_ages = [int(key) for key in age_count]\n",
    "#print(distinct_ages)\n",
    "\n",
    "def median_age(unique_ages):\n",
    "    \n",
    "    total_distinct_ages = 0\n",
    "    \n",
    "    for age in unique_ages:\n",
    "        total_distinct_ages += age\n",
    "    \n",
    "    return total_distinct_ages/len(unique_ages)\n",
    "\n",
    "print(\"\\nThe median age for the dataset is {}.\".format(median_age(distinct_ages)))"
   ]
  },
  {
   "cell_type": "markdown",
   "metadata": {},
   "source": [
    "##### Count the region to count, there are 4 regions"
   ]
  },
  {
   "cell_type": "code",
   "execution_count": 58,
   "metadata": {},
   "outputs": [
    {
     "name": "stdout",
     "output_type": "stream",
     "text": [
      "{'northeast': 324, 'northwest': 325, 'southeast': 364, 'southwest': 325}\n"
     ]
    }
   ],
   "source": [
    "#Function to count amount for each region\n",
    "def count_region(regions):\n",
    "    region_counts = {}  # Dictionary to store distinct regions and their counts\n",
    "    \n",
    "    regions.sort() #sort it before the loop\n",
    "    \n",
    "    # Iterate over the ages list\n",
    "    for region in regions:\n",
    "        if region in region_counts:\n",
    "            region_counts[region] += 1  # Increment count if region already exists\n",
    "        else:\n",
    "            region_counts[region] = 1  # Initialize count if region is encountered for the first time\n",
    "    \n",
    "    return region_counts\n",
    "\n",
    "counts_per_region = count_region(region)\n",
    "\n",
    "print(counts_per_region)"
   ]
  },
  {
   "cell_type": "code",
   "execution_count": 59,
   "metadata": {},
   "outputs": [
    {
     "name": "stdout",
     "output_type": "stream",
     "text": [
      "There are 324 people from the northeast region in the dataset.\n",
      "There are 325 people from the northwest region in the dataset.\n",
      "There are 364 people from the southeast region in the dataset.\n",
      "There are 325 people from the southwest region in the dataset.\n"
     ]
    }
   ],
   "source": [
    "for key, value in counts_per_region.items():\n",
    "    print(\"There are {} people from the {} region in the dataset.\".format(value,key))"
   ]
  },
  {
   "cell_type": "markdown",
   "metadata": {},
   "source": [
    "##### Cost avg between smokers and non-smokers\n"
   ]
  },
  {
   "cell_type": "code",
   "execution_count": 100,
   "metadata": {},
   "outputs": [
    {
     "name": "stdout",
     "output_type": "stream",
     "text": [
      "The average charge for a smoker is $ 32050.23.\n",
      "The average charge for a non-smoker is 8434.27\n"
     ]
    }
   ],
   "source": [
    "#print(dataset_dict)\n",
    "\n",
    "#Create a function to store charges of smokers and non-smokers\n",
    "def average_smoker_nonsmoker(dataset):\n",
    "    \n",
    "    smokers_charges = 0 #variable to store total charges for smokers\n",
    "    nonsmoker_charges = 0 #variable to store total charges for non-smokers\n",
    "    \n",
    "    smokers_count = 0\n",
    "    nonsmokers_count = 0\n",
    "    \n",
    "    for key, value in dataset.items():\n",
    "        if value[4] == 'yes':\n",
    "            smokers_charges += float(value[6])\n",
    "            smokers_count += 1\n",
    "        elif value[4] == 'no':\n",
    "            nonsmoker_charges += float(value[6])   \n",
    "            nonsmokers_count += 1\n",
    "    \n",
    "    smoker_avg = smokers_charges/smokers_count\n",
    "    nonsmoker_avg = nonsmoker_charges/nonsmokers_count\n",
    "    \n",
    "    print(\"The average charge for a smoker is $ {}.\\nThe average charge for a non-smoker is {}\".format(round(smoker_avg,2),round(nonsmoker_avg,2)))\n",
    "\n",
    "average_smoker_nonsmoker(dataset_dict)\n",
    "\n"
   ]
  },
  {
   "cell_type": "markdown",
   "metadata": {},
   "source": [
    "##### Average charge of someone who has at least one child in this dataset"
   ]
  },
  {
   "cell_type": "code",
   "execution_count": 106,
   "metadata": {},
   "outputs": [
    {
     "name": "stdout",
     "output_type": "stream",
     "text": [
      "The average charge for a parent is $ 13949.94.\n",
      "The average charge for a single is $ 12365.98.\n"
     ]
    }
   ],
   "source": [
    "def average_has_children(dataset):\n",
    "    \n",
    "    has_children_charges = 0\n",
    "    no_children = 0\n",
    "    \n",
    "    has_children_count = 0\n",
    "    no_children_count = 0\n",
    "    \n",
    "    for key, value in dataset.items():\n",
    "        if int(value[3]) > 0:\n",
    "            has_children_charges += float(value[6])\n",
    "            has_children_count += 1\n",
    "        elif int(value[3]) == 0:\n",
    "            no_children += float(value[6])\n",
    "            no_children_count += 1\n",
    "    \n",
    "    avg_has_children = has_children_charges/has_children_count\n",
    "    avg_no_children = no_children/no_children_count\n",
    "    \n",
    "    print(\"The average charge for a parent is $ {}.\\nThe average charge for a single is $ {}.\".format(round(avg_has_children,2), round(avg_no_children,2))) \n",
    "\n",
    "average_has_children(dataset_dict)    "
   ]
  },
  {
   "cell_type": "markdown",
   "metadata": {},
   "source": [
    "# Current Findings for the dataset:\n",
    "\n",
    "## Number of people who has children (0-6)\n",
    "Number of people with 0 children: \t 574 <br>\n",
    "Number of people with 1 child: \t\t 324 <br>\n",
    "Number of people with 2 children: \t 240 <br>\n",
    "Number of people with 3 children: \t 157 <br>\n",
    "Number of people with 4 children: \t 25 <br>\n",
    "Number of people with 5 children: \t 18 <br>\n",
    "Number of people with 6 children: \t 0<br>\n",
    "\n",
    "## Age Brackets (18-, 20s, 30s, 40s, 50s, 60s, 65+)\n",
    "No. of people who are underage: \t 69 <br>\n",
    "No. of people who are in their 20s: \t 280 <br>\n",
    "No. of people who are in their 30s: \t 257 <br>\n",
    "No. of people who are in their 40s: \t 279 <br>\n",
    "No. of people who are in their 50s: \t 271 <br>\n",
    "No. of people who are over 60s: \t 114 <br>\n",
    "No. of people who are seniors(65+): \t 0<br>\n",
    "\n",
    "## Total for each sex\n",
    "Total number of females: \t 662 <br>\n",
    "Total number of males: \t\t 676<br>\n",
    "\n",
    "## Total Number of people, avg for males and females\n",
    "\n",
    "Total number of people:  1338\n",
    "\n",
    "The average charge/cost in the dataset is: $ 13270.42\n",
    "\n",
    "The total average charge for all males is: $ 13956.75\n",
    "\n",
    "The average charges for all female in the dataset is: $ 12569.58\n",
    "\n",
    "\n",
    "## Min and Max Charges\n",
    "\n",
    "Highest charge is: $ 63770.42801\n",
    "\n",
    "Details of the person with the highest charges:  ('54', 'female', '47.41', '0', 'yes', 'southeast', '63770.42801') \n",
    "\n",
    "The lowest charge is: $ 1121.8739\n",
    "\n",
    "Details of the person with the lowest charges:  ('18', 'male', '23.21', '0', 'no', 'southeast', '1121.8739')\n",
    "\n",
    "## Parents and Singles (0 children vs has children):\n",
    "The average charge for a parent is $ 13949.94.\n",
    "\n",
    "The average charge for a single is $ 12365.98.\n",
    "\n",
    "## Region\n",
    "\n",
    "There are 324 people from the northeast region in the dataset. \n",
    "\n",
    "There are 325 people from the northwest region in the dataset. \n",
    "\n",
    "There are 364 people from the southeast region in the dataset. \n",
    "\n",
    "There are 325 people from the southwest region in the dataset.  \n",
    "\n",
    "## Smoker \n",
    "\n",
    "The average charge for a smoker is $ 32050.23.\n",
    "\n",
    "The average charge for a non-smoker is 8434.27 \n",
    "\n",
    "## Age\n",
    "\n",
    "The average age for the dataset is: 39.21\n",
    "\n",
    "The median age for the dataset is 41.0.\n",
    "\n",
    "##### Ages and count\n",
    "Age: 18, Count: 69 <br>\n",
    "Age: 19, Count: 68 <br>\n",
    "Age: 20, Count: 29 <br>\n",
    "Age: 21, Count: 28 <br>\n",
    "Age: 22, Count: 28 <br>\n",
    "Age: 23, Count: 28 <br>\n",
    "Age: 24, Count: 28 <br>\n",
    "Age: 25, Count: 28 <br>\n",
    "Age: 26, Count: 28 <br>\n",
    "Age: 27, Count: 28 <br>\n",
    "Age: 28, Count: 28 <br>\n",
    "Age: 29, Count: 27 <br>\n",
    "Age: 30, Count: 27 <br>\n",
    "Age: 31, Count: 27 <br>\n",
    "Age: 32, Count: 26 <br>\n",
    "Age: 33, Count: 26 <br>\n",
    "Age: 34, Count: 26 <br>\n",
    "Age: 35, Count: 25 <br>\n",
    "Age: 36, Count: 25 <br>\n",
    "Age: 37, Count: 25 <br>\n",
    "Age: 38, Count: 25 <br>\n",
    "Age: 39, Count: 25 <br>\n",
    "Age: 40, Count: 27 <br>\n",
    "Age: 41, Count: 27 <br>\n",
    "Age: 42, Count: 27 <br>\n",
    "Age: 43, Count: 27 <br>\n",
    "Age: 44, Count: 27 <br>\n",
    "Age: 45, Count: 29 <br>\n",
    "Age: 46, Count: 29 <br>\n",
    "Age: 47, Count: 29 <br>\n",
    "Age: 48, Count: 29 <br>\n",
    "Age: 49, Count: 28 <br>\n",
    "Age: 50, Count: 29 <br>\n",
    "Age: 51, Count: 29 <br>\n",
    "Age: 52, Count: 29 <br>\n",
    "Age: 53, Count: 28 <br>\n",
    "Age: 54, Count: 28 <br>\n",
    "Age: 55, Count: 26 <br>\n",
    "Age: 56, Count: 26 <br>\n",
    "Age: 57, Count: 26 <br>\n",
    "Age: 58, Count: 25 <br>\n",
    "Age: 59, Count: 25 <br>\n",
    "Age: 60, Count: 23 <br>\n",
    "Age: 61, Count: 23 <br>\n",
    "Age: 62, Count: 23 <br>\n",
    "Age: 63, Count: 23 <br>\n",
    "Age: 64, Count: 22 <br>"
   ]
  },
  {
   "cell_type": "code",
   "execution_count": null,
   "metadata": {},
   "outputs": [],
   "source": []
  }
 ],
 "metadata": {
  "kernelspec": {
   "display_name": "Python 3 (ipykernel)",
   "language": "python",
   "name": "python3"
  },
  "language_info": {
   "codemirror_mode": {
    "name": "ipython",
    "version": 3
   },
   "file_extension": ".py",
   "mimetype": "text/x-python",
   "name": "python",
   "nbconvert_exporter": "python",
   "pygments_lexer": "ipython3",
   "version": "3.10.9"
  }
 },
 "nbformat": 4,
 "nbformat_minor": 4
}
