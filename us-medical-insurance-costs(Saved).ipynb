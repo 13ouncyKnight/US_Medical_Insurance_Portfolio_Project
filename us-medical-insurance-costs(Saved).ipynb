{
 "cells": [
  {
   "cell_type": "markdown",
   "metadata": {},
   "source": [
    "# U.S. Medical Insurance Costs"
   ]
  },
  {
   "cell_type": "markdown",
   "metadata": {},
   "source": [
    "In this Porject, we are given a csv file **insurance.csv** that contains the dataset we will be working on for our analysis. The first step is to import the data from csv into our notebook file (ipnyb). <br> \n",
    "\n",
    "*See code below for importing, reading and iterating through the csv file to store values into variables.*"
   ]
  },
  {
   "cell_type": "code",
   "execution_count": 39,
   "metadata": {},
   "outputs": [
    {
     "name": "stdout",
     "output_type": "stream",
     "text": [
      "First five row of the dataset:\n",
      " Age : ['19', '18', '28', '33', '32'],\n",
      " Sex: ['female', 'male', 'male', 'male', 'male'],\n",
      " BMI: ['27.9', '33.77', '33', '22.705', '28.88'], \n",
      " Number of Children:['0', '1', '3', '0', '0'],\n",
      " Smoker:['yes', 'no', 'no', 'no', 'no'],\n",
      " Region: ['southwest', 'southeast', 'southeast', 'northwest', 'northwest'],\n",
      " Insurence Cost (in $): ['16884.924', '1725.5523', '4449.462', '21984.47061', '3866.8552'].\n"
     ]
    }
   ],
   "source": [
    "#To import csv library since we are working with a csv file\n",
    "import csv\n",
    "\n",
    "#Create empty lists to store values of each type of data\n",
    "age = []\n",
    "sex = []\n",
    "bmi = []\n",
    "children = []\n",
    "smoker = []\n",
    "region = []\n",
    "charges = []\n",
    "insurance_data = []\n",
    "\n",
    "#Open file using DictReader, and iterate through each column to store value\n",
    "#to their designated lists\n",
    "with open('insurance.csv') as insurance_file:\n",
    "    insurance_dict = csv.DictReader(insurance_file)\n",
    "    for row in insurance_dict:\n",
    "        age.append(row['age'])\n",
    "        sex.append(row['sex'])\n",
    "        bmi.append(row['bmi'])\n",
    "        children.append(row['children'])\n",
    "        smoker.append(row['smoker'])\n",
    "        region.append(row['region'])\n",
    "        charges.append(row['charges'])\n",
    "\n",
    "#!printing to check if values are stored as expected        \n",
    "print(f'First five row of the dataset:\\n Age : {age[:5]},\\n Sex: {sex[:5]},\\n BMI: {bmi[:5]}, \\n Number of Children:{children[:5]},\\n Smoker:{smoker[:5]},\\n Region: {region[:5]},\\n Insurence Cost (in $): {charges[:5]}.')     "
   ]
  },
  {
   "cell_type": "markdown",
   "metadata": {},
   "source": [
    "#### Now that we have stored the values of our data into their respective lists, such as:\n",
    "\n",
    "* age\n",
    "* sex\n",
    "* bmi\n",
    "* children\n",
    "* smoker\n",
    "* region\n",
    "* charges\n",
    "\n",
    "We can now proceed to our analysis and we should create functions to get the values that we want such as the *MIN, MAX, MEAN, MEDIAN, MODE, etc.\n",
    "\n",
    "#### Here are some data we might want to analyze:\n",
    "\n",
    "* Organize 0 children, 1-3 children (count)\n",
    "* Organize age brackets (under 18, 20s, 30s, 40s, 50s, 60s, and 65 year-olds)\n",
    "* Organize male and females (count)\n",
    "* average, median, and mean costs for both male and female\n",
    "* Highest Cost (and details)\n",
    "* Lowest Cost (and details)\n",
    "* Count of each age (1-100)\n",
    "* Average age of patients ()\n",
    "* Median age of patients ()\n",
    "* Where majority of individuals are from ()\n",
    "* Cost avg between smokers and non-smokers ()\n",
    "* Average charge of someone who has at least one child in this dataset ()\n"
   ]
  },
  {
   "cell_type": "markdown",
   "metadata": {},
   "source": [
    "##### Organize 0 children, 1-3 children (count)"
   ]
  },
  {
   "cell_type": "code",
   "execution_count": 2,
   "metadata": {},
   "outputs": [
    {
     "name": "stdout",
     "output_type": "stream",
     "text": [
      "Number of people with 0 children: \t 574 \n",
      "Number of people with 1 child: \t\t 324 \n",
      "Number of people with 2 children: \t 240 \n",
      "Number of people with 3 children: \t 157 \n",
      "Number of people with 4 children: \t 25 \n",
      "Number of people with 5 children: \t 18 \n",
      "Number of people with 6 children: \t 0\n"
     ]
    }
   ],
   "source": [
    "#Use count method to count number of people who has 0, 1, 2, 3, 4 and more children #list_name.count('value')\n",
    "def count_children(children):\n",
    "    count_0 = []\n",
    "    count_1 = []\n",
    "    count_2 = []\n",
    "    count_3 = []\n",
    "    count_4 = []\n",
    "    count_5 = []\n",
    "    count_6 = []\n",
    "    for num_of_children in children:\n",
    "        if num_of_children == '0':\n",
    "            count_0.append(num_of_children)\n",
    "        elif num_of_children == '1':\n",
    "            count_1.append(num_of_children)\n",
    "        elif num_of_children == '2':\n",
    "            count_2.append(num_of_children)    \n",
    "        elif num_of_children == '3':\n",
    "            count_3.append(num_of_children)    \n",
    "        elif num_of_children == '4':\n",
    "            count_4.append(num_of_children)    \n",
    "        elif num_of_children == '5':\n",
    "            count_5.append(num_of_children)\n",
    "        elif num_of_children == '6':\n",
    "            count_6.append(num_of_children)    \n",
    "    print(\"Number of people with 0 children: \\t\", count_0.count(\"0\"), \"\\nNumber of people with 1 child: \\t\\t\", count_1.count(\"1\"),\"\\nNumber of people with 2 children: \\t\", count_2.count(\"2\"), \"\\nNumber of people with 3 children: \\t\", count_3.count(\"3\"), \"\\nNumber of people with 4 children: \\t\", count_4.count(\"4\"), \"\\nNumber of people with 5 children: \\t\", count_5.count(\"5\"), \"\\nNumber of people with 6 children: \\t\", count_6.count(\"6\"))\n",
    "\n",
    "(count_children(children))"
   ]
  },
  {
   "cell_type": "markdown",
   "metadata": {},
   "source": [
    "##### Organize age brackets (under 18, 20s, 30s, 40s, 50s, 60s, and 65 year-olds)"
   ]
  },
  {
   "cell_type": "code",
   "execution_count": 5,
   "metadata": {
    "scrolled": true
   },
   "outputs": [
    {
     "name": "stdout",
     "output_type": "stream",
     "text": [
      "No. of people who are underage: \t 69 \n",
      "No. of people who are 19 years old: \t 68 \n",
      "No. of people who are in their 20s: \t 280 \n",
      "No. of people who are in their 30s: \t 257 \n",
      "No. of people who are in their 40s: \t 279 \n",
      "No. of people who are in their 50s: \t 271 \n",
      "No. of people who are over 60s: \t 114 \n",
      "No. of people who are seniors(65+): \t 0\n"
     ]
    }
   ],
   "source": [
    "#Create a function to organize age brackets\n",
    "def age_brackets(age):\n",
    "    converted_age_list = [int(n) for n in age]\n",
    "    under_18 = []\n",
    "    nineteens = []\n",
    "    twenties = []\n",
    "    thirties = []\n",
    "    fourties = []\n",
    "    fifties = []\n",
    "    sixties = []\n",
    "    seniors = []\n",
    "    for num in converted_age_list:\n",
    "        if num <=18:\n",
    "            under_18.append(num)\n",
    "\n",
    "        #! what about 19 years old?\n",
    "        #!please add this count as well\n",
    "        #19 years old bracket added (Fernando/Bouncy)\n",
    "        elif num == 19:\n",
    "            nineteens.append(num)\n",
    "        elif num >=20 and num <30:\n",
    "            twenties.append(num)\n",
    "        elif num >=30 and num <40:\n",
    "            thirties.append(num)\n",
    "        elif num >=40 and num <50:\n",
    "            fourties.append(num)\n",
    "        elif num >=50 and num <60:\n",
    "            fifties.append(num)\n",
    "        elif num >=60 and num <65:\n",
    "            sixties.append(num)\n",
    "        elif num >=65 and num <100:\n",
    "            seniors.append(num)\n",
    "    print(\"No. of people who are underage: \\t\", len(under_18), \"\\nNo. of people who are 19 years old: \\t\", len(nineteens), \"\\nNo. of people who are in their 20s: \\t\", len(twenties), \"\\nNo. of people who are in their 30s: \\t\", len(thirties), \"\\nNo. of people who are in their 40s: \\t\", len(fourties), \"\\nNo. of people who are in their 50s: \\t\", len(fifties), \"\\nNo. of people who are over 60s: \\t\", len(sixties), \"\\nNo. of people who are seniors(65+): \\t\", len(seniors))\n",
    "    \n",
    "age_brackets(age)            "
   ]
  },
  {
   "cell_type": "markdown",
   "metadata": {},
   "source": [
    "##### Create a function to get the Mean, Median, Mode of age"
   ]
  },
  {
   "cell_type": "code",
   "execution_count": 157,
   "metadata": {},
   "outputs": [
    {
     "name": "stdout",
     "output_type": "stream",
     "text": [
      "MEAN: \n",
      "The mean age for the dataset is:  39.21\n",
      "\n",
      "\n",
      "MEDIAN: \n",
      "There are 1338 of age records in the dataset.\n",
      "The oldest person is aged: \t 64 \n",
      "The youngest person is aged: \t 18 \n",
      "The median age is: \t\t 39\n",
      "\n",
      "MODE:\n",
      "The mode is:  18\n"
     ]
    }
   ],
   "source": [
    "def mean_age(age_list):\n",
    "    length_age = len(age_list) #Length of data\n",
    "    converted_ages = [int(n) for n in age_list] #To convert the datatype into int\n",
    "    total_age = 0 #Variable to store the total value of ages\n",
    "    for n in converted_ages:\n",
    "        total_age+=n\n",
    "    average_age = round(total_age/length_age,2)\n",
    "    print(\"MEAN: \")\n",
    "    print(\"The mean age for the dataset is: \", average_age)   \n",
    "mean_age(age)    \n",
    "    \n",
    "\n",
    "def median_age(age_list):\n",
    "    converted_ages = [int(n) for n in age_list]\n",
    "    sorted_ages = sorted(converted_ages)\n",
    "    \n",
    "    highest_age = int(max(age_list)) \n",
    "    lowest_age = int(min(age_list))\n",
    "    \n",
    "    age_length = len(sorted_ages)\n",
    "    \n",
    "    print(\"\\n\\nMEDIAN: \")\n",
    "    print(\"There are {} of age records in the dataset.\".format(age_length))\n",
    "    \n",
    "    if age_length %2 !=0:\n",
    "        median_index = (age_length+1)/2\n",
    "        print(median_index)\n",
    "        int_index = int(median_index)\n",
    "        int_index -=1\n",
    "        final_median = sorted_ages[int_index]\n",
    "    \n",
    "    elif age_length %2 ==0:\n",
    "        median_index = age_length/2\n",
    "        int_index = int(median_index)\n",
    "        final_median = sorted_ages[int_index]\n",
    "    \n",
    "    print(\"The oldest person is aged: \\t\", highest_age, \\\n",
    "         \"\\nThe youngest person is aged: \\t\", lowest_age,\\\n",
    "         \"\\nThe median age is: \\t\\t\", final_median)\n",
    "median_age(age)\n",
    "\n",
    "def mode_age(age_list):\n",
    "    print(\"\\nMODE:\")\n",
    "    converted_ages = [int(n) for n in age_list]\n",
    "    age_dictionary_count = {}\n",
    "    \n",
    "    for n in converted_ages:\n",
    "        if n not in age_dictionary_count:\n",
    "            age_dictionary_count[n] = 1\n",
    "        elif n in age_dictionary_count:\n",
    "            age_dictionary_count[n]+=1\n",
    "            \n",
    "    sorted_dict = dict(sorted(age_dictionary_count.items()))\n",
    "    \n",
    "    most_count_total = 0\n",
    "    most_count_age = 0\n",
    "    for key, value in sorted_dict.items():\n",
    "        if value > most_count_total:\n",
    "            most_count_total = value\n",
    "            most_count_age = key\n",
    "    print(\"The mode is: \", most_count_age)\n",
    "    \n",
    "mode_age(age)"
   ]
  },
  {
   "cell_type": "markdown",
   "metadata": {},
   "source": [
    "##### \\*\\*Average, Median, and Mean costs for all genders: ```Haven't learned mean, median yet using Python"
   ]
  },
  {
   "cell_type": "code",
   "execution_count": 95,
   "metadata": {},
   "outputs": [
    {
     "name": "stdout",
     "output_type": "stream",
     "text": [
      "\n",
      "The total sum of all charges in the dataset is: $ 17755824.99\n",
      "Total number of people:  1338\n",
      "The average charge/cost in the dataset is: $ 13270.42\n"
     ]
    }
   ],
   "source": [
    "#!avarage and mean are the same things\n",
    "#!median is that value that cut in half the data. min and max have the same distance from the median\n",
    "#! can you add it?\n",
    "#! will be much easier with library, I know but we can create a function for now\n",
    "'''\n",
    "def median(data):\n",
    "    data.sort()\n",
    "    mid = len(data) // 2\n",
    "    return (data[mid] + data[~mid]) / 2.0\n",
    "'''\n",
    "#(Fernando/Bouncy: I made a new function above to calculate the mean, median and average of ages)\n",
    "\n",
    "converted_charges = [float(cost) for cost in charges]\n",
    "\n",
    "total_cost_all = 0\n",
    "for cost in converted_charges:\n",
    "    total_cost_all += cost\n",
    "\n",
    "rounded_total = round((total_cost_all), 2)    \n",
    "print(\"\\nThe total sum of all charges in the dataset is: $\", rounded_total)\n",
    "print(\"Total number of people: \", len(charges))\n",
    "print(\"The average charge/cost in the dataset is: $\", round(rounded_total/len(charges), 2))"
   ]
  },
  {
   "cell_type": "markdown",
   "metadata": {},
   "source": [
    "##### Male and Female Population, average charge for each gender"
   ]
  },
  {
   "cell_type": "code",
   "execution_count": 96,
   "metadata": {},
   "outputs": [
    {
     "name": "stdout",
     "output_type": "stream",
     "text": [
      "Total number of females: \t 662 \n",
      "Total number of males: \t\t 676\n",
      "\n",
      "50.52 percent of the data are males while 49.48 percent of the dataset population comprises of females.\n",
      "\n",
      "Total sum of all charges for males: \t$ 9434763.8\n",
      "The total average charge for all males is: $ 13956.75\n",
      "\n",
      "Total sum of all charges for females: \t$ 8321061.19\n",
      "The average charges for all female in the dataset is: $ 12569.58\n"
     ]
    }
   ],
   "source": [
    "#Create a list for the charges for all males\n",
    "#first, create a list of tuples with sex and charges\n",
    "\n",
    "#Create a function to count number of males and females:\n",
    "male = []\n",
    "female = []\n",
    "def count_sex(sex):\n",
    "    for gender in sex:\n",
    "        if gender == 'male':\n",
    "            male.append(gender)\n",
    "        else:\n",
    "            female.append(gender)\n",
    "    male_pcntg = round((len(male) / len(sex))*100,2)\n",
    "    female_pcntg = round((len(female) / len(sex))*100,2)\n",
    "    print(\"Total number of females: \\t\", female.count('female'), \"\\nTotal number of males: \\t\\t\", male.count('male'))\n",
    "    print(\"\\n{} percent of the data are males while {} percent of the dataset population comprises of females.\".format(male_pcntg,female_pcntg))\n",
    "count_sex(sex)    \n",
    "\n",
    "sex_charges_list = []\n",
    "n=0\n",
    "for data in sex:\n",
    "    sex_charges_list.append(data)\n",
    "    sex_charges_list.append(charges[n])\n",
    "    n+=1\n",
    "\n",
    "#print(sex_charges_list)    \n",
    "#print(\"\\nLength: \\t\", len(sex_charges_list))    \n",
    "\n",
    "n=0\n",
    "total_cost_male = 0\n",
    "total_cost_female = 0\n",
    "for data in sex_charges_list:\n",
    "    if data == 'male':\n",
    "        total_cost_male += float(sex_charges_list[n+1])\n",
    "        n+=1\n",
    "    elif data == 'female':\n",
    "        total_cost_female += float(sex_charges_list[n+1])\n",
    "        n+=1\n",
    "    else:\n",
    "        n+=1\n",
    "        continue\n",
    "    #! add external round function for total_cost_male to read better the print statement\n",
    "total_cost_male = round((total_cost_male), 2)\n",
    "        \n",
    "print(\"\\nTotal sum of all charges for males: \\t$\", total_cost_male) \n",
    "#! is not better to leave the lenth instead of the actual number? if we going to change the csv file, this number will be fixed\n",
    "#Fernando/Bouncy: I fixed it Marta, made the divisor value dynamic and enclosed this func\n",
    "print(\"The total average charge for all males is: $\", round(total_cost_male/len(male),2))\n",
    "\n",
    "print(\"\\nTotal sum of all charges for females: \\t$\", round((total_cost_female), 2))   \n",
    "print(\"The average charges for all female in the dataset is: $\", round((total_cost_female)/len(female),2))"
   ]
  },
  {
   "cell_type": "markdown",
   "metadata": {},
   "source": [
    "### Record with Highest Cost (and details):\n",
    "###### First, we need to create a dictionary to get the details"
   ]
  },
  {
   "cell_type": "code",
   "execution_count": 147,
   "metadata": {},
   "outputs": [
    {
     "name": "stdout",
     "output_type": "stream",
     "text": [
      "\n",
      "Highest charge is: $ 63770.43\n",
      "\n",
      "Details of the person with the highest charges:  ('34', 'female', '47.41', '0', 'yes', 'southeast', '63770.42801')\n"
     ]
    }
   ],
   "source": [
    "#Creating the Dictionary\n",
    "dataset_values = zip(age, sex, bmi, children, smoker, region, charges)\n",
    "dataset_keys = range(1338)\n",
    "dataset_dict = {key: value for key, value in zip(dataset_keys,dataset_values)}\n",
    "\n",
    "#print(dataset_dict)  \n",
    "\n",
    "def highest_cost(list):\n",
    "    highest_charge = 0\n",
    "    charges_list = [float(n) for n in list]\n",
    "    for charge in charges_list:\n",
    "        if charge >= highest_charge:\n",
    "            highest_charge = charge\n",
    "    #! can you round it in 2 decimal?\n",
    "    #Fernando/Bouncy: Rounded into 2 decimal places\n",
    "    rounded_charge = round(highest_charge, 2)\n",
    "    print(\"\\nHighest charge is: $\", rounded_charge)\n",
    "    #Check details (all other items) of the (value) in the dictionary using get method:\n",
    "    #! please use the name of the value as if we can change the csv file, we'll have this data update.\n",
    "    #Fernando: I updated the condition here\n",
    "    for key, value in dataset_dict.items():\n",
    "        if dataset_dict[key][-1] == str(highest_charge):\n",
    "            print(\"\\nDetails of the person with the highest charges: \", dataset_dict.get(key))\n",
    "    \n",
    "highest_cost(charges)\n"
   ]
  },
  {
   "cell_type": "markdown",
   "metadata": {},
   "source": [
    "##### Then, determine the record with Lowest Charge: "
   ]
  },
  {
   "cell_type": "code",
   "execution_count": 131,
   "metadata": {},
   "outputs": [
    {
     "name": "stdout",
     "output_type": "stream",
     "text": [
      "The lowest charge is: $ 1121.87\n",
      "\n",
      "Details of the person with the lowest charges:  ('18', 'male', '23.21', '0', 'no', 'southeast', '1121.8739')\n"
     ]
    }
   ],
   "source": [
    "def lowest_cost(list):\n",
    "    #! what is this? = float('inf')\n",
    "    #Fernando/Bouncy - that means infinity (for the highest_cost, we start at 0, for lowest, we start at infinity :\"]\")\n",
    "    lowest_charge = float('inf')\n",
    "    charges_list = [float(n) for n in list]\n",
    "    for charge in charges_list:\n",
    "        if charge <= lowest_charge:\n",
    "            lowest_charge = charge\n",
    "            \n",
    "    rounded_lowest_charge = round(lowest_charge, 2)\n",
    "    print(\"The lowest charge is: $\",  rounded_lowest_charge)\n",
    "    \n",
    "    #! please change the number here as well\n",
    "    #condition has been changed from static to dynamic\n",
    "    #Check details (all other items) of the (value) in the dictionary using get method:\n",
    "    for record in dataset_dict:\n",
    "        if dataset_dict[record][-1] == str(lowest_charge):\n",
    "            print(\"\\nDetails of the person with the lowest charges: \", dataset_dict.get(record))\n",
    "    \n",
    "lowest_cost(charges)"
   ]
  },
  {
   "cell_type": "markdown",
   "metadata": {},
   "source": [
    "##### Count of each age in the record from 1-100: "
   ]
  },
  {
   "cell_type": "markdown",
   "metadata": {},
   "source": [
    "Existing variables:\n",
    "\n",
    "**dataset_values** = zip(age, sex, bmi, children, smoker, region, charges) <br>\n",
    "**dataset_dict** = {range(1338): dataset_values}\n"
   ]
  },
  {
   "cell_type": "code",
   "execution_count": 146,
   "metadata": {},
   "outputs": [
    {
     "name": "stdout",
     "output_type": "stream",
     "text": [
      "Age: 18, Count: 69\n",
      "Age: 19, Count: 68\n",
      "Age: 20, Count: 29\n",
      "Age: 21, Count: 28\n",
      "Age: 22, Count: 28\n",
      "Age: 23, Count: 28\n",
      "Age: 24, Count: 28\n",
      "Age: 25, Count: 28\n",
      "Age: 26, Count: 28\n",
      "Age: 27, Count: 28\n",
      "Age: 28, Count: 28\n",
      "Age: 29, Count: 27\n",
      "Age: 30, Count: 27\n",
      "Age: 31, Count: 27\n",
      "Age: 32, Count: 26\n",
      "Age: 33, Count: 26\n",
      "Age: 34, Count: 26\n",
      "Age: 35, Count: 25\n",
      "Age: 36, Count: 25\n",
      "Age: 37, Count: 25\n",
      "Age: 38, Count: 25\n",
      "Age: 39, Count: 25\n",
      "Age: 40, Count: 27\n",
      "Age: 41, Count: 27\n",
      "Age: 42, Count: 27\n",
      "Age: 43, Count: 27\n",
      "Age: 44, Count: 27\n",
      "Age: 45, Count: 29\n",
      "Age: 46, Count: 29\n",
      "Age: 47, Count: 29\n",
      "Age: 48, Count: 29\n",
      "Age: 49, Count: 28\n",
      "Age: 50, Count: 29\n",
      "Age: 51, Count: 29\n",
      "Age: 52, Count: 29\n",
      "Age: 53, Count: 28\n",
      "Age: 54, Count: 28\n",
      "Age: 55, Count: 26\n",
      "Age: 56, Count: 26\n",
      "Age: 57, Count: 26\n",
      "Age: 58, Count: 25\n",
      "Age: 59, Count: 25\n",
      "Age: 60, Count: 23\n",
      "Age: 61, Count: 23\n",
      "Age: 62, Count: 23\n",
      "Age: 63, Count: 23\n",
      "Age: 64, Count: 22\n"
     ]
    }
   ],
   "source": [
    "def count_store_age(ages):\n",
    "    age_counts = {}  # Dictionary to store distinct ages and their counts\n",
    "    \n",
    "    ages.sort() #sort it first before the loop\n",
    "    \n",
    "    # Iterate over the ages list\n",
    "    for age in ages:\n",
    "        if age in age_counts:\n",
    "            age_counts[age] += 1  # Increment count if age already exists\n",
    "        else:\n",
    "            age_counts[age] = 1  # Initialize count if age is encountered for the first time\n",
    "    #Print in formatted output:\n",
    "    for key, value in age_count.items():\n",
    "        print(\"Age: {}, Count: {}\".format(key,value))\n",
    "\n",
    "# Anyone knows why the variable age changed value?    \n",
    "#! yes! 'age' is the new name of age.count[key]. As is reading the dictionary age_counts, it's updating all the values and keys. that's why is changing. \n",
    "#! you can call the first list you create as 'age_list' \n",
    "#print(\"Age list: \", age)    \n",
    "#Fernando/Bouncy error has been fixed, avoid re-using the same variable names even for temporary variable names\n",
    "\n",
    "count_store_age(age)"
   ]
  },
  {
   "cell_type": "markdown",
   "metadata": {},
   "source": [
    "##### Count the region to count, there are 4 regions"
   ]
  },
  {
   "cell_type": "code",
   "execution_count": 151,
   "metadata": {},
   "outputs": [
    {
     "name": "stdout",
     "output_type": "stream",
     "text": [
      "There are 324 people from the northeast region in the dataset.\n",
      "There are 325 people from the northwest region in the dataset.\n",
      "There are 364 people from the southeast region in the dataset.\n",
      "There are 325 people from the southwest region in the dataset.\n"
     ]
    }
   ],
   "source": [
    "#Function to count amount for each region\n",
    "def count_region(regions):\n",
    "    region_counts = {}  # Dictionary to store distinct regions and their counts\n",
    "    \n",
    "    regions.sort() #sort it before the loop\n",
    "    \n",
    "    # Iterate over the ages list\n",
    "    for region in regions:\n",
    "        if region in region_counts:\n",
    "            region_counts[region] += 1  # Increment count if region already exists\n",
    "        else:\n",
    "            region_counts[region] = 1  # Initialize count if region is encountered for the first time\n",
    "    \n",
    "    for key, value in region_counts.items():\n",
    "        print(\"There are {} people from the {} region in the dataset.\".format(value,key))\n",
    "\n",
    "\n",
    "count_region(region)"
   ]
  },
  {
   "cell_type": "markdown",
   "metadata": {},
   "source": [
    "##### Cost avg between smokers and non-smokers\n"
   ]
  },
  {
   "cell_type": "code",
   "execution_count": 155,
   "metadata": {},
   "outputs": [
    {
     "name": "stdout",
     "output_type": "stream",
     "text": [
      "The average charge for a smoker is $ 32050.23.\n",
      "The average charge for a non-smoker is $ 8434.27.\n"
     ]
    }
   ],
   "source": [
    "#print(dataset_dict)\n",
    "\n",
    "#Create a function to store charges of smokers and non-smokers\n",
    "def average_smoker_nonsmoker(dataset):\n",
    "    \n",
    "    smokers_charges = 0 #variable to store total charges for smokers\n",
    "    nonsmoker_charges = 0 #variable to store total charges for non-smokers\n",
    "    \n",
    "    smokers_count = 0\n",
    "    nonsmokers_count = 0\n",
    "    #! you can use dataset.values() inset of '.items()' if you don't need to use 'key'\n",
    "    for key, value in dataset.items():\n",
    "        if value[4] == 'yes':\n",
    "            smokers_charges += float(value[6])\n",
    "            smokers_count += 1\n",
    "        elif value[4] == 'no':\n",
    "            nonsmoker_charges += float(value[6])   \n",
    "            nonsmokers_count += 1\n",
    "    \n",
    "    smoker_avg = smokers_charges/smokers_count\n",
    "    nonsmoker_avg = nonsmoker_charges/nonsmokers_count\n",
    "    \n",
    "    print(\"The average charge for a smoker is $ {}.\\nThe average charge for a non-smoker is $ {}.\".format(round(smoker_avg,2),round(nonsmoker_avg,2)))\n",
    "\n",
    "average_smoker_nonsmoker(dataset_dict)\n",
    "\n"
   ]
  },
  {
   "cell_type": "markdown",
   "metadata": {},
   "source": [
    "##### Average charge of someone who has at least one child in this dataset"
   ]
  },
  {
   "cell_type": "code",
   "execution_count": 156,
   "metadata": {},
   "outputs": [
    {
     "name": "stdout",
     "output_type": "stream",
     "text": [
      "The average charge for a parent is $ 13949.94.\n",
      "The average charge for a single is $ 12365.98.\n"
     ]
    }
   ],
   "source": [
    "def average_has_children(dataset):\n",
    "    \n",
    "    has_children_charges = 0\n",
    "    no_children = 0\n",
    "    \n",
    "    has_children_count = 0\n",
    "    no_children_count = 0\n",
    "    #! the same here\n",
    "    for key, value in dataset.items():\n",
    "        if int(value[3]) > 0:\n",
    "            has_children_charges += float(value[6])\n",
    "            has_children_count += 1\n",
    "        elif int(value[3]) == 0:\n",
    "            no_children += float(value[6])\n",
    "            no_children_count += 1\n",
    "    \n",
    "    avg_has_children = has_children_charges/has_children_count\n",
    "    avg_no_children = no_children/no_children_count\n",
    "    \n",
    "    print(\"The average charge for a parent is $ {}.\\nThe average charge for a single is $ {}.\".format(round(avg_has_children,2), round(avg_no_children,2))) \n",
    "\n",
    "average_has_children(dataset_dict)    "
   ]
  },
  {
   "cell_type": "markdown",
   "metadata": {},
   "source": [
    "# Current Findings for the dataset:\n",
    "\n",
    "## Number of people who has children (0-6)\n",
    "Number of people with 0 children: \t 574 <br>\n",
    "Number of people with 1 child: \t\t 324 <br>\n",
    "Number of people with 2 children: \t 240 <br>\n",
    "Number of people with 3 children: \t 157 <br>\n",
    "Number of people with 4 children: \t 25 <br>\n",
    "Number of people with 5 children: \t 18 <br>\n",
    "Number of people with 6 children: \t 0<br>\n",
    "\n",
    "## Age Brackets (under 18, 19s, 20s, 30s, 40s, 50s, 60s, 65+)\n",
    "No. of people who are under 18: \t 69 <br>\n",
    "No. of people who are 19 years old: \t 68 <br>\n",
    "No. of people who are in their 20s: \t 280 <br>\n",
    "No. of people who are in their 30s: \t 257 <br>\n",
    "No. of people who are in their 40s: \t 279 <br>\n",
    "No. of people who are in their 50s: \t 271 <br>\n",
    "No. of people who are over 60s: \t 114 <br>\n",
    "No. of people who are seniors(65+): \t 0<br>\n",
    "\n",
    "## Mean, Median, Mode for Ages\n",
    "MEAN: \n",
    "The mean age for the dataset is:  39.21\n",
    "\n",
    "\n",
    "MEDIAN: \n",
    "There are 1338 of age records in the dataset.\n",
    "The oldest person is aged: \t 64 \n",
    "The youngest person is aged: \t 18 \n",
    "The median age is: \t\t 39\n",
    "\n",
    "MODE:\n",
    "The mode is:  18\n",
    "\n",
    "## Total for each sex\n",
    "Total number of females: \t 662 <br>\n",
    "Total number of males: \t\t 676<br>\n",
    "\n",
    "## Total Number of people, avg for males and females\n",
    "\n",
    "Total number of people:  1338\n",
    "\n",
    "The average charge/cost in the dataset is: $ 13270.42\n",
    "\n",
    "The total average charge for all males is: $ 13956.75\n",
    "\n",
    "The average charges for all female in the dataset is: $ 12569.58\n",
    "\n",
    "\n",
    "## Min and Max Charges\n",
    "\n",
    "Highest charge is: $ 63770.42801\n",
    "\n",
    "Details of the person with the highest charges:  ('54', 'female', '47.41', '0', 'yes', 'southeast', '63770.42801') \n",
    "\n",
    "The lowest charge is: $ 1121.8739\n",
    "\n",
    "Details of the person with the lowest charges:  ('18', 'male', '23.21', '0', 'no', 'southeast', '1121.8739')\n",
    "\n",
    "## Parents and Singles (0 children vs has children):\n",
    "The average charge for a parent is $ 13949.94.\n",
    "\n",
    "The average charge for a single is $ 12365.98.\n",
    "\n",
    "## Region\n",
    "\n",
    "There are 324 people from the northeast region in the dataset. \n",
    "\n",
    "There are 325 people from the northwest region in the dataset. \n",
    "\n",
    "There are 364 people from the southeast region in the dataset. \n",
    "\n",
    "There are 325 people from the southwest region in the dataset.  \n",
    "\n",
    "## Smoker \n",
    "\n",
    "The average charge for a smoker is $ 32050.23.\n",
    "\n",
    "The average charge for a non-smoker is $ 8434.27 \n",
    "\n",
    "## Age\n",
    "\n",
    "The average age for the dataset is: 39.21\n",
    "\n",
    "The median age for the dataset is 41.0.\n",
    "\n",
    "##### Ages and count\n",
    "Age: 18, Count: 69 <br>\n",
    "Age: 19, Count: 68 <br>\n",
    "Age: 20, Count: 29 <br>\n",
    "Age: 21, Count: 28 <br>\n",
    "Age: 22, Count: 28 <br>\n",
    "Age: 23, Count: 28 <br>\n",
    "Age: 24, Count: 28 <br>\n",
    "Age: 25, Count: 28 <br>\n",
    "Age: 26, Count: 28 <br>\n",
    "Age: 27, Count: 28 <br>\n",
    "Age: 28, Count: 28 <br>\n",
    "Age: 29, Count: 27 <br>\n",
    "Age: 30, Count: 27 <br>\n",
    "Age: 31, Count: 27 <br>\n",
    "Age: 32, Count: 26 <br>\n",
    "Age: 33, Count: 26 <br>\n",
    "Age: 34, Count: 26 <br>\n",
    "Age: 35, Count: 25 <br>\n",
    "Age: 36, Count: 25 <br>\n",
    "Age: 37, Count: 25 <br>\n",
    "Age: 38, Count: 25 <br>\n",
    "Age: 39, Count: 25 <br>\n",
    "Age: 40, Count: 27 <br>\n",
    "Age: 41, Count: 27 <br>\n",
    "Age: 42, Count: 27 <br>\n",
    "Age: 43, Count: 27 <br>\n",
    "Age: 44, Count: 27 <br>\n",
    "Age: 45, Count: 29 <br>\n",
    "Age: 46, Count: 29 <br>\n",
    "Age: 47, Count: 29 <br>\n",
    "Age: 48, Count: 29 <br>\n",
    "Age: 49, Count: 28 <br>\n",
    "Age: 50, Count: 29 <br>\n",
    "Age: 51, Count: 29 <br>\n",
    "Age: 52, Count: 29 <br>\n",
    "Age: 53, Count: 28 <br>\n",
    "Age: 54, Count: 28 <br>\n",
    "Age: 55, Count: 26 <br>\n",
    "Age: 56, Count: 26 <br>\n",
    "Age: 57, Count: 26 <br>\n",
    "Age: 58, Count: 25 <br>\n",
    "Age: 59, Count: 25 <br>\n",
    "Age: 60, Count: 23 <br>\n",
    "Age: 61, Count: 23 <br>\n",
    "Age: 62, Count: 23 <br>\n",
    "Age: 63, Count: 23 <br>\n",
    "Age: 64, Count: 22 <br>"
   ]
  },
  {
   "cell_type": "code",
   "execution_count": null,
   "metadata": {},
   "outputs": [],
   "source": []
  }
 ],
 "metadata": {
  "kernelspec": {
   "display_name": "Python 3 (ipykernel)",
   "language": "python",
   "name": "python3"
  },
  "language_info": {
   "codemirror_mode": {
    "name": "ipython",
    "version": 3
   },
   "file_extension": ".py",
   "mimetype": "text/x-python",
   "name": "python",
   "nbconvert_exporter": "python",
   "pygments_lexer": "ipython3",
   "version": "3.10.9"
  }
 },
 "nbformat": 4,
 "nbformat_minor": 4
}
